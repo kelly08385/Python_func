{
 "cells": [
  {
   "cell_type": "code",
   "execution_count": 1,
   "metadata": {},
   "outputs": [],
   "source": [
    "# merge and rename\n",
    "import shutil\n",
    "import os\n",
    "path = \"/ncudeep/yuan/Defect_part/1222-1227/ForFRCNN/Defect_origin\"\n",
    "despath = \"/ncudeep/yuan/Defect_part/1222-1227/ForFRCNN/merge\"\n",
    "for root,dirs,files in os.walk(path):\n",
    "    for file in files:\n",
    "        shutil.copy(os.path.join(root,file),os.path.join(os.path.join(despath,file)))\n",
    "        os.rename(os.path.join(despath,file),os.path.join(despath,file[:-4]+'.jpg'))"
   ]
  },
  {
   "cell_type": "code",
   "execution_count": 2,
   "metadata": {},
   "outputs": [],
   "source": [
    "import xml.etree.cElementTree as ET\n",
    "import cv2\n",
    "import os\n",
    "import numpy as np\n",
    "\n",
    "crop_path = \"/ncudeep/yuan/Defect_part/1222-1227/ForFRCNN/Defect_crop\"\n",
    "ori_path = \"/ncudeep/yuan/Defect_part/1222-1227/ForFRCNN/merge\"\n",
    "xml_path = \"/ncudeep/yuan/Defect_part/1222-1227/ForFRCNN/result/xml\"\n",
    "des_path = \"/ncudeep/yuan/Defect_part/1222-1227/ForFRCNN/result/picture\"\n",
    "        "
   ]
  },
  {
   "cell_type": "code",
   "execution_count": null,
   "metadata": {
    "scrolled": false
   },
   "outputs": [],
   "source": [
    "for root,dirs,files in os.walk(crop_path):\n",
    "    for file in files:\n",
    "        if os.path.exists(os.path.join(ori_path,file[:-4]+\".jpg\")):\n",
    "            print(os.path.join(root,file))\n",
    "            try:\n",
    "                cropImg = cv2.imread(os.path.join(root,file))\n",
    "                oriImg = cv2.imread(os.path.join(ori_path,file[:-4]+\".jpg\"))\n",
    "                result = cv2.matchTemplate(oriImg, cropImg, cv2.TM_CCOEFF_NORMED) \n",
    "                x_and_y = np.unravel_index(result.argmax(),result.shape)\n",
    "                print(x_and_y)\n",
    "\n",
    "                tree = ET.parse('/ncudeep/yuan/Defect_part/1222-1227/ForFRCNN/8800AAHJFAMYC108100001-01.xml')\n",
    "                tree_root = tree.getroot()\n",
    "                change_dict = {\"filename\":file,\"width\":oriImg.shape[1],\"height\":oriImg.shape[0],\"xmin\":x_and_y[1],\"ymin\":x_and_y[0],\\\n",
    "                               \"xmax\":x_and_y[1]+cropImg.shape[1],\"ymax\":x_and_y[0]+cropImg.shape[0],\"name\":root.split(\"/\")[-1]}\n",
    "                for key in change_dict.keys():\n",
    "                    for e in tree_root.iter(key):\n",
    "                        e.text = str(change_dict[key])\n",
    "                tree.write(os.path.join(xml_path,file[:-4]+\".xml\"))\n",
    "            except:\n",
    "                print(\"continue\")"
   ]
  },
  {
   "cell_type": "code",
   "execution_count": 8,
   "metadata": {},
   "outputs": [],
   "source": [
    "# use xml to catch picture\n",
    "for root,dirs,files in os.walk(crop_path):\n",
    "    for file in files:\n",
    "        if os.path.exists(os.path.join(ori_path,file[:-4]+\".jpg\")) and\\\n",
    "                          os.path.exists(os.path.join(xml_path,file[:-4]+\".xml\")):\n",
    "            if not os.path.exists(os.path.join(des_path,root.split(\"/\")[-1])):\n",
    "                os.mkdir(os.path.join(des_path,root.split(\"/\")[-1]))\n",
    "            shutil.move(os.path.join(ori_path,file[:-4]+\".jpg\"),os.path.join(des_path,root.split(\"/\")[-1],file[:-4]+\".jpg\"))"
   ]
  },
  {
   "cell_type": "code",
   "execution_count": null,
   "metadata": {},
   "outputs": [],
   "source": []
  }
 ],
 "metadata": {
  "kernelspec": {
   "display_name": "Python 3",
   "language": "python",
   "name": "python3"
  },
  "language_info": {
   "codemirror_mode": {
    "name": "ipython",
    "version": 3
   },
   "file_extension": ".py",
   "mimetype": "text/x-python",
   "name": "python",
   "nbconvert_exporter": "python",
   "pygments_lexer": "ipython3",
   "version": "3.5.2"
  }
 },
 "nbformat": 4,
 "nbformat_minor": 2
}

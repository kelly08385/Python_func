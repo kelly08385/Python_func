{
 "cells": [
  {
   "cell_type": "code",
   "execution_count": 5,
   "metadata": {},
   "outputs": [],
   "source": [
    "# rename\n",
    "import shutil\n",
    "import os\n",
    "path = \"/msl/home/kelly08385/Pictures/Fast_defect/0124/JPEGImages\"\n",
    "des_path = \"/msl/home/kelly08385/Downloads/Faster-RCNN_TF/data/VOCdevkit/VOC2007/JPEGImages\"\n",
    "for root, dirs, files in os.walk(path):\n",
    "    for file in files:\n",
    "        shutil.copy(os.path.join(root,file),os.path.join(des_path,file))"
   ]
  },
  {
   "cell_type": "code",
   "execution_count": 6,
   "metadata": {},
   "outputs": [],
   "source": [
    "# make the dir txt\n",
    "import os \n",
    "path = \"/msl/home/kelly08385/Downloads/Faster-RCNN_TF/data/VOCdevkit/VOC2007/JPEGImages\"\n",
    "f = open('train.txt','w')\n",
    "for root, dirs, files in os.walk(path):\n",
    "    for file in files:\n",
    "        f.write(file[:-4]+\"\\n\")\n",
    "\n",
    "f.close()"
   ]
  },
  {
   "cell_type": "code",
   "execution_count": 7,
   "metadata": {},
   "outputs": [],
   "source": [
    "# make annotation dir xml\n",
    "import os \n",
    "import csv\n",
    "import xml.etree.cElementTree as ET\n",
    "\n",
    "path = \"/home/kelly/Pictures/fastrcnn/0124/8800/JPEGImages\"\n",
    "m_file = open('./8800_Annotation.csv', 'w')\n",
    "csvCursor = csv.writer(m_file)\n",
    "m_list = ['xmin','ymin','xmax','ymax','name']\n",
    "\n",
    "for root, dirs, files in os.walk(path):\n",
    "    for file in files:\n",
    "        data = []\n",
    "        tree = ET.parse(os.path.join('/home/kelly/Pictures/fastrcnn/0124/8800/Annotations',file[:-4]+'.xml'))\n",
    "        tree_root = tree.getroot()\n",
    "        data.append(root+\"/\"+file)\n",
    "        for key in m_list:\n",
    "            for e in tree_root.iter(key):\n",
    "                data.append(e.text)\n",
    "        csvCursor.writerow(data)\n",
    "        \n",
    "        \n",
    "m_file.close()\n"
   ]
  },
  {
   "cell_type": "code",
   "execution_count": 9,
   "metadata": {},
   "outputs": [],
   "source": [
    "# make class xml\n",
    "m_class = ['C010','DL_N','DL_P','DL_R','G018','INFM','ONFM','S031']\n",
    "m_file = open('./8800_Class.csv', 'w')\n",
    "csvCursor = csv.writer(m_file)\n",
    "\n",
    "for index,name in enumerate(m_class):\n",
    "    data = []\n",
    "    data.append(name)\n",
    "    data.append(index)\n",
    "    csvCursor.writerow(data)\n",
    "    \n",
    "m_file.close()"
   ]
  },
  {
   "cell_type": "code",
   "execution_count": null,
   "metadata": {},
   "outputs": [],
   "source": []
  }
 ],
 "metadata": {
  "kernelspec": {
   "display_name": "Python 3",
   "language": "python",
   "name": "python3"
  },
  "language_info": {
   "codemirror_mode": {
    "name": "ipython",
    "version": 3
   },
   "file_extension": ".py",
   "mimetype": "text/x-python",
   "name": "python",
   "nbconvert_exporter": "python",
   "pygments_lexer": "ipython3",
   "version": "3.5.2"
  }
 },
 "nbformat": 4,
 "nbformat_minor": 2
}

{
 "cells": [
  {
   "cell_type": "code",
   "execution_count": 13,
   "metadata": {},
   "outputs": [],
   "source": [
    "# rename\n",
    "import shutil\n",
    "import os\n",
    "path = \"/home/kelly/Pictures/fastrcnn/0223/demo/S10G\"\n",
    "des_path = \"/home/kelly/Pictures/fastrcnn/0223/demo/S10G\"\n",
    "for root, dirs, files in os.walk(path):\n",
    "    for file in files:\n",
    "        shutil.copy(os.path.join(root,file),os.path.join(des_path,file))"
   ]
  },
  {
   "cell_type": "code",
   "execution_count": 2,
   "metadata": {},
   "outputs": [],
   "source": [
    "# make the train txt for faster rcnn\n",
    "import os \n",
    "path = \"/home/kelly/faster-rcnn/data/VOCdevkit2007/VOC2007/JPEGImages\"\n",
    "f = open('train.txt','w')\n",
    "for root, dirs, files in os.walk(path):\n",
    "    for file in files:\n",
    "        f.write(file[:-4]+\"\\n\")\n",
    "\n",
    "f.close()"
   ]
  },
  {
   "cell_type": "code",
   "execution_count": 7,
   "metadata": {},
   "outputs": [],
   "source": [
    "# make annotation dir csv\n",
    "import os \n",
    "import csv\n",
    "import xml.etree.cElementTree as ET\n",
    "\n",
    "path = \"/home/kelly/Pictures/fastrcnn/0124/8800/JPEGImages\"\n",
    "m_file = open('./8800_Annotation.csv', 'w')\n",
    "csvCursor = csv.writer(m_file)\n",
    "m_list = ['xmin','ymin','xmax','ymax','name']\n",
    "\n",
    "for root, dirs, files in os.walk(path):\n",
    "    for file in files:\n",
    "        data = []\n",
    "        tree = ET.parse(os.path.join('/home/kelly/Pictures/fastrcnn/0124/8800/Annotations',file[:-4]+'.xml'))\n",
    "        tree_root = tree.getroot()\n",
    "        data.append(root+\"/\"+file)\n",
    "        for key in m_list:\n",
    "            for e in tree_root.iter(key):\n",
    "                data.append(e.text)\n",
    "        csvCursor.writerow(data)\n",
    "        \n",
    "        \n",
    "m_file.close()\n"
   ]
  },
  {
   "cell_type": "code",
   "execution_count": 9,
   "metadata": {},
   "outputs": [],
   "source": [
    "# make class xml\n",
    "m_class = ['C010','DL_N','DL_P','DL_R','G018','INFM','ONFM','S031']\n",
    "m_file = open('./8800_Class.csv', 'w')\n",
    "csvCursor = csv.writer(m_file)\n",
    "\n",
    "for index,name in enumerate(m_class):\n",
    "    data = []\n",
    "    data.append(name)\n",
    "    data.append(index)\n",
    "    csvCursor.writerow(data)\n",
    "    \n",
    "m_file.close()"
   ]
  },
  {
   "cell_type": "code",
   "execution_count": 15,
   "metadata": {},
   "outputs": [],
   "source": [
    "# bilinear CNN make txt\n",
    "import os\n",
    "class_dict = {\"C010\":0,\"CON1\":1,\"DL_N\":2,'DL_P':3,'DL_R':4,'ED96':5,'G018':6,'INFM':7,'ONFM':8,'S031':9,'Zother':10}\n",
    "\n",
    "path = \"/home/kelly/Pictures/defect/8800_0122/train_origin\"\n",
    "f = open(\"train.txt\",\"w\")\n",
    "\n",
    "for root,dirs,files in os.walk(path):\n",
    "    for file in files:\n",
    "        w_str = \"\".join((root+\"/\"+file,\" \", str(class_dict[root.split(\"/\")[-1]]) ))\n",
    "        f.write(w_str+\"\\n\")\n",
    "f.close()"
   ]
  },
  {
   "cell_type": "code",
   "execution_count": 20,
   "metadata": {},
   "outputs": [],
   "source": [
    "import os,random\n",
    "import numpy as np\n",
    "import shutil\n",
    "\n",
    "# random sample 100 picture in dir\n",
    "source_path = \"/home/kelly/Pictures/fastrcnn/8800_0124/picture\"\n",
    "des_path = \"/home/kelly/Pictures/fastrcnn/8800_0302_100\"\n",
    "\n",
    "for root,dirs,files in os.walk(source_path):\n",
    "    for dir in dirs:\n",
    "        dir_path = os.path.join(root,dir)\n",
    "        files = os.listdir(dir_path)\n",
    "        if len(files) > 100:\n",
    "            index = random.sample(files,100)\n",
    "            \n",
    "        else:\n",
    "            index = files\n",
    "            \n",
    "        for i in index:\n",
    "            des_dir_path = os.path.join(des_path,dir)\n",
    "            \n",
    "            if not os.path.exists(des_dir_path):\n",
    "                os.makedirs(des_dir_path)\n",
    "            shutil.copy(os.path.join(root,dir,i),os.path.join(des_dir_path,i))\n",
    "            \n",
    "            \n",
    "    "
   ]
  },
  {
   "cell_type": "code",
   "execution_count": null,
   "metadata": {},
   "outputs": [],
   "source": []
  }
 ],
 "metadata": {
  "kernelspec": {
   "display_name": "Python 3",
   "language": "python",
   "name": "python3"
  },
  "language_info": {
   "codemirror_mode": {
    "name": "ipython",
    "version": 2
   },
   "file_extension": ".py",
   "mimetype": "text/x-python",
   "name": "python",
   "nbconvert_exporter": "python",
   "pygments_lexer": "ipython2",
   "version": "2.7.12"
  }
 },
 "nbformat": 4,
 "nbformat_minor": 2
}

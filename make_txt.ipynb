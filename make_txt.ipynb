{
 "cells": [
  {
   "cell_type": "code",
   "execution_count": 10,
   "metadata": {},
   "outputs": [],
   "source": [
    "import os\n",
    "\n",
    "f = open('train_file_name.txt','a')\n",
    "path = '/ncudeep/yuan/Defect_0214/0928-0214/2800_DBC_0928-0214'\n",
    "for root,dirs,files in os.walk(path):\n",
    "    for file in files:\n",
    "        f.write(file+'\\n')\n",
    "\n",
    "f.close()"
   ]
  },
  {
   "cell_type": "code",
   "execution_count": 1,
   "metadata": {},
   "outputs": [],
   "source": [
    "# merge and rename\n",
    "import shutil\n",
    "import os\n",
    "path = \"/msl/home/kelly08385/Pictures/Fast_defect/4800/ori\"\n",
    "despath = \"/msl/home/kelly08385/Pictures/Fast_defect/4800/ori\"\n",
    "\n",
    "for root,dirs,files in os.walk(path):\n",
    "    for file in files:\n",
    "        try:\n",
    "            #print(root.split('/')[8])\n",
    "            shutil.move(os.path.join(root,file),os.path.join(os.path.join(despath,root.split('/')[8],file[:-4]+'.jpg')))\n",
    "        except:\n",
    "            print(\"continue\")"
   ]
  },
  {
   "cell_type": "code",
   "execution_count": 6,
   "metadata": {},
   "outputs": [],
   "source": [
    "import xml.etree.cElementTree as ET\n",
    "import os,shutil\n",
    "\n",
    "image_path = \"/msl/home/kelly08385/Pictures/Fast_defect/2800/2800_no_type\"\n",
    "xml_path = \"/msl/home/kelly08385/Pictures/Fast_defect/2800/Annotations\"\n",
    "\n",
    "for root,dirs,files in os.walk(image_path):\n",
    "    for file in files:\n",
    "        #dir = root.split('/')[-1]\n",
    "        # exist xml\n",
    "        if os.path.exists(os.path.join(xml_path,file[:-4]+\".xml\")):\n",
    "            tree = ET.parse(os.path.join(xml_path,file[:-4]+'.xml'))\n",
    "            tree_root = tree.getroot()\n",
    "            for e in tree_root.iter(\"name\"):\n",
    "                change_dir = e.text \n",
    "                #print(change_dir)\n",
    "                    \n",
    "            _despath = os.path.join(image_path,change_dir)\n",
    "            #print(_despath)\n",
    "            mkdir(_despath)\n",
    "            shutil.move(os.path.join(root,file),os.path.join(_despath,file))\n",
    "        "
   ]
  },
  {
   "cell_type": "code",
   "execution_count": 2,
   "metadata": {},
   "outputs": [],
   "source": [
    "def mkdir(path):\n",
    "    if not os.path.exists(path):\n",
    "        os.makedirs(path)"
   ]
  },
  {
   "cell_type": "code",
   "execution_count": null,
   "metadata": {},
   "outputs": [],
   "source": [
    "## use original image and crop image to find xml \n",
    "\n",
    "import xml.etree.cElementTree as ET\n",
    "import cv2\n",
    "import os\n",
    "import numpy as np\n",
    "import shutil\n",
    "\n",
    "crop_path = \"/msl/home/kelly08385/Pictures/Fast_defect/4800/crop\"\n",
    "des_crop_path = \"/msl/home/kelly08385/Pictures/Fast_defect/4800/train_crop\"\n",
    "ori_path = \"/msl/home/kelly08385/Pictures/Fast_defect/4800/ori\"\n",
    "des_path = \"/msl/home/kelly08385/Pictures/Fast_defect/4800/data\"\n",
    "des_path2 = \"/msl/home/kelly08385/Pictures/Fast_defect/4800/JPEGImages\"\n",
    "xml_path = \"/msl/home/kelly08385/Pictures/Fast_defect/4800/Annotations\"\n",
    "\n",
    "#quiz_path = \"/home/kelly/Pictures/defect/0312_work/9300/quiz\""
   ]
  },
  {
   "cell_type": "code",
   "execution_count": null,
   "metadata": {},
   "outputs": [],
   "source": [
    "for root,dirs,files in os.walk(crop_path):\n",
    "    dir = root.split(\"/\")[-1]\n",
    "    for file in files:\n",
    "        mkdir(os.path.join(des_path,dir))\n",
    "        mkdir(os.path.join(des_crop_path,dir))\n",
    "        if os.path.exists(os.path.join(ori_path,dir,file[:-4]+\".jpg\")):\n",
    "\n",
    "            try:\n",
    "                cropImg = cv2.imread(os.path.join(root,file))\n",
    "                cropImg = cv2.cvtColor(cropImg, cv2.COLOR_BGR2GRAY)\n",
    "                oriImg = cv2.imread(os.path.join(ori_path,dir,file[:-4]+\".jpg\"))\n",
    "                oriImg = cv2.cvtColor(oriImg, cv2.COLOR_BGR2GRAY)\n",
    "                \n",
    "                result = cv2.matchTemplate(oriImg, cropImg, cv2.TM_CCOEFF_NORMED) \n",
    "                x_and_y = np.unravel_index(result.argmax(),result.shape)\n",
    "                print(x_and_y)\n",
    "\n",
    "                tree = ET.parse('/msl/home/kelly08385/Pictures/trained_defect/total/Annotations/2300AAHL5AHYC14C100007-03.xml')\n",
    "                tree_root = tree.getroot()\n",
    "                print(tree_root)\n",
    "                change_dict = {\"filename\":file,\"width\":oriImg.shape[1],\"height\":oriImg.shape[0],\"xmin\":x_and_y[1],\"ymin\":x_and_y[0],\\\n",
    "                               \"xmax\":x_and_y[1]+cropImg.shape[1],\"ymax\":x_and_y[0]+cropImg.shape[0],\"name\":root.split(\"/\")[-1]}\n",
    "                for key in change_dict.keys():\n",
    "                    for e in tree_root.iter(key):\n",
    "                        e.text = str(change_dict[key])\n",
    "                shutil.copy(os.path.join(ori_path,dir,file),os.path.join(des_path2,file))\n",
    "                shutil.move(os.path.join(ori_path,dir,file),os.path.join(des_path,dir,file))\n",
    "                shutil.move(os.path.join(root,file),os.path.join(des_crop_path,dir,file))\n",
    "                tree.write(os.path.join(xml_path,file[:-4]+\".xml\"))\n",
    "            except:\n",
    "                print(\"contunue\")"
   ]
  },
  {
   "cell_type": "code",
   "execution_count": null,
   "metadata": {},
   "outputs": [],
   "source": [
    "# find red rec and move to the data and delete xml\n",
    "# PPP0 PC07 PF01 PF02\n",
    "import os,shutil\n",
    "base_path = \"/msl/home/kelly08385/Pictures/Fast_defect/4300/quiz\"\n",
    "des_path = \"/msl/home/kelly08385/Pictures/Fast_defect/4300/rec\"\n",
    "# xml_path = \"/home/kelly/Pictures/fastrcnn/2300_0322/result/Annotations\"\n",
    "\n",
    "for root,dirs,files in os.walk(base_path):\n",
    "    dir = root.split('/')[-1]\n",
    "    print(dir)\n",
    "    if dir == \"S10G\":\n",
    "        for file in files:\n",
    "            cropImg = getImgInRedRect(os.path.join(root,file))\n",
    "            if not cropImg is None:\n",
    "                print(os.path.join(root,file))\n",
    "                _despath = os.path.join(des_path,dir)\n",
    "                mkdir(_despath)\n",
    "    #             print(os.path.join(xml_path,file[:-4]+\".xml\"))\n",
    "                shutil.move(os.path.join(root,file),os.path.join(_despath,file))\n",
    "    #             os.remove(os.path.join(xml_path,file[:-4]+\".xml\"))\n"
   ]
  }
 ],
 "metadata": {
  "kernelspec": {
   "display_name": "Python 3",
   "language": "python",
   "name": "python3"
  },
  "language_info": {
   "codemirror_mode": {
    "name": "ipython",
    "version": 3
   },
   "file_extension": ".py",
   "mimetype": "text/x-python",
   "name": "python",
   "nbconvert_exporter": "python",
   "pygments_lexer": "ipython3",
   "version": "3.5.2"
  }
 },
 "nbformat": 4,
 "nbformat_minor": 2
}
